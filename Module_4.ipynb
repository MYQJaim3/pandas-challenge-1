{
 "cells": [
  {
   "cell_type": "code",
   "execution_count": null,
   "metadata": {},
   "outputs": [],
   "source": [
    "import pandas as pd"
   ]
  },
  {
   "cell_type": "code",
   "execution_count": null,
   "metadata": {},
   "outputs": [],
   "source": [
    "# Part 1: Explore the Data\n",
    "df = pd.read_csv('data.csv')\n",
    "\n",
    "# View the column names\n",
    "print(df.columns)\n",
    "\n",
    "# Use the describe function\n",
    "print(df.describe())\n"
   ]
  },
  {
   "cell_type": "code",
   "execution_count": null,
   "metadata": {},
   "outputs": [],
   "source": [
    "# Answer the questions\n",
    "top_categories = df['category'].value_counts().head(3)\n",
    "print(top_categories)\n",
    "\n",
    "top_subcategory = df[df['category'] == top_categories.index[0]]['subcategory'].value_counts().idxmax()\n",
    "print(top_subcategory)\n",
    "\n",
    "top_clients = df['client_id'].value_counts().head(5)\n",
    "print(top_clients)\n",
    "\n",
    "client_ids = top_clients.index.tolist()\n",
    "print(client_ids)\n",
    "\n",
    "total_units = df[df['client_id'] == client_ids[0]]['qty'].sum()\n",
    "print(total_units)"
   ]
  },
  {
   "cell_type": "code",
   "execution_count": null,
   "metadata": {},
   "outputs": [],
   "source": [
    "# Part 2: Transform the Data\n",
    "df['subtotal'] = df['unit_price'] * df['qty']\n",
    "df['shipping_price'] = df['weight'].apply(lambda x: x * 7 if x > 50 else x * 10)\n",
    "df['total_price'] = df['subtotal'] + df['shipping_price'] * 1.0925\n",
    "df['line_cost'] = df['unit_cost'] * df['qty'] + df['shipping_price']\n",
    "df['profit'] = df['total_price'] - df['line_cost']"
   ]
  },
  {
   "cell_type": "code",
   "execution_count": null,
   "metadata": {},
   "outputs": [],
   "source": [
    "# Part 3: Confirm Your Work\n",
    "order_ids = [2742071, 2173913, 6128929]\n",
    "for order_id in order_ids:\n",
    "    total_price = df[df['order_id'] == order_id]['total_price'].sum()\n",
    "    print(f\"Order ID {order_id} had a total price of ${total_price:.2f}\")"
   ]
  },
  {
   "cell_type": "code",
   "execution_count": null,
   "metadata": {},
   "outputs": [],
   "source": [
    "# Part 4: Summarize and Analyze\n",
    "client_data = []\n",
    "for client_id in client_ids:\n",
    "    client_df = df[df['client_id'] == client_id]\n",
    "    total_units = client_df['qty'].sum()\n",
    "    total_shipping_price = client_df['shipping_price'].sum()\n",
    "    total_revenue = client_df['total_price'].sum()\n",
    "    total_profit = client_df['profit'].sum()\n",
    "    client_data.append([client_id, total_units, total_shipping_price, total_revenue, total_profit])\n",
    "\n",
    "summary_df = pd.DataFrame(client_data, columns=['Client ID', 'Total Units', 'Total Shipping Price', 'Total Revenue', 'Total Profit'])\n",
    "summary_df['Total Revenue'] = summary_df['Total Revenue'].apply(lambda x: x / 1e6)\n",
    "summary_df['Total Profit'] = summary_df['Total Profit'].apply(lambda x: x / 1e6)\n",
    "summary_df = summary_df.sort_values('Total Profit', ascending=False)\n",
    "print(summary_df)"
   ]
  }
 ],
 "metadata": {
  "language_info": {
   "name": "python"
  }
 },
 "nbformat": 4,
 "nbformat_minor": 2
}
